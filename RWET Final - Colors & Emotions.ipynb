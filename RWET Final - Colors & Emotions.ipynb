{
 "cells": [
  {
   "cell_type": "code",
   "execution_count": 9,
   "metadata": {},
   "outputs": [
    {
     "name": "stdout",
     "output_type": "stream",
     "text": [
      "Requirement already satisfied: simpleneighbors in /anaconda3/lib/python3.6/site-packages (0.0.1)\r\n",
      "Requirement already satisfied: annoy in /anaconda3/lib/python3.6/site-packages (from simpleneighbors) (1.15.1)\r\n"
     ]
    }
   ],
   "source": [
    "!pip install simpleneighbors\n"
   ]
  },
  {
   "cell_type": "code",
   "execution_count": 7,
   "metadata": {},
   "outputs": [
    {
     "name": "stdout",
     "output_type": "stream",
     "text": [
      "Collecting package metadata: done\n",
      "Solving environment: done\n",
      "\n",
      "## Package Plan ##\n",
      "\n",
      "  environment location: /anaconda3\n",
      "\n",
      "  added / updated specs:\n",
      "    - python-annoy\n",
      "\n",
      "\n",
      "The following packages will be downloaded:\n",
      "\n",
      "    package                    |            build\n",
      "    ---------------------------|-----------------\n",
      "    certifi-2018.4.16          |           py36_0         142 KB  conda-forge\n",
      "    conda-4.6.14               |           py36_0         2.1 MB  conda-forge\n",
      "    python-annoy-1.15.1        |   py36h0a44026_0          56 KB  conda-forge\n",
      "    ------------------------------------------------------------\n",
      "                                           Total:         2.3 MB\n",
      "\n",
      "The following NEW packages will be INSTALLED:\n",
      "\n",
      "  python-annoy       conda-forge/osx-64::python-annoy-1.15.1-py36h0a44026_0\n",
      "\n",
      "The following packages will be SUPERSEDED by a higher-priority channel:\n",
      "\n",
      "  certifi                                         pkgs/main --> conda-forge\n",
      "  conda                                           pkgs/main --> conda-forge\n",
      "\n",
      "\n",
      "\n",
      "Downloading and Extracting Packages\n",
      "certifi-2018.4.16    | 142 KB    | ##################################### | 100% \n",
      "conda-4.6.14         | 2.1 MB    | ##################################### | 100% \n",
      "python-annoy-1.15.1  | 56 KB     | ##################################### | 100% \n",
      "Preparing transaction: done\n",
      "Verifying transaction: done\n",
      "Executing transaction: done\n"
     ]
    }
   ],
   "source": [
    "!conda install -y -c conda-forge python-annoy\n"
   ]
  },
  {
   "cell_type": "code",
   "execution_count": 10,
   "metadata": {},
   "outputs": [],
   "source": [
    "from simpleneighbors import SimpleNeighbors\n"
   ]
  },
  {
   "cell_type": "code",
   "execution_count": 31,
   "metadata": {},
   "outputs": [],
   "source": [
    "import json\n",
    "import pandas as pd\n",
    "import numpy as np\n",
    "import matplotlib.pyplot as plt\n",
    "import math\n",
    "color_data = json.loads(open(\"xkcd.json\").read())"
   ]
  },
  {
   "cell_type": "code",
   "execution_count": 101,
   "metadata": {},
   "outputs": [],
   "source": [
    "#def hex_to_int(s):\n",
    "    #s = s.lstrip(\"#\")\n",
    "    #return np.array([int(s[:2], 16), int(s[2:4], 16), int(s[4:6], 16)])"
   ]
  },
  {
   "cell_type": "code",
   "execution_count": 100,
   "metadata": {},
   "outputs": [],
   "source": [
    "colors = dict()\n",
    "for item in color_data['colors']:\n",
    "    colors[item[\"color\"]] = hex_to_int(item[\"hex\"])\n",
    "    \n",
    "from numpy.linalg import norm\n",
    "def distance(a, b):\n",
    "    return norm(a - b)\n",
    "\n",
    "def meanv(vecs):\n",
    "    total = np.sum(vecs, axis=0)\n",
    "    return total / len(vecs)"
   ]
  },
  {
   "cell_type": "code",
   "execution_count": 102,
   "metadata": {},
   "outputs": [],
   "source": [
    "color_lookup = SimpleNeighbors(3, 'euclidean')\n",
    "for name, vec in colors.items():\n",
    "    color_lookup.add_one(name, vec)\n",
    "color_lookup.build()"
   ]
  },
  {
   "cell_type": "code",
   "execution_count": 103,
   "metadata": {
    "scrolled": true
   },
   "outputs": [
    {
     "data": {
      "text/plain": [
       "['red',\n",
       " 'fire engine red',\n",
       " 'bright red',\n",
       " 'tomato red',\n",
       " 'cherry red',\n",
       " 'scarlet',\n",
       " 'vermillion',\n",
       " 'orangish red',\n",
       " 'cherry',\n",
       " 'lipstick red',\n",
       " 'darkish red',\n",
       " 'neon red']"
      ]
     },
     "execution_count": 103,
     "metadata": {},
     "output_type": "execute_result"
    }
   ],
   "source": [
    "color_lookup.nearest(colors['red'])\n"
   ]
  },
  {
   "cell_type": "code",
   "execution_count": 104,
   "metadata": {},
   "outputs": [],
   "source": [
    "import spacy\n",
    "import random"
   ]
  },
  {
   "cell_type": "code",
   "execution_count": 105,
   "metadata": {},
   "outputs": [],
   "source": [
    "nlp = spacy.load('en_core_web_md')\n"
   ]
  },
  {
   "cell_type": "code",
   "execution_count": 106,
   "metadata": {},
   "outputs": [],
   "source": [
    "lookup = SimpleNeighbors(300)\n",
    "for item in nlp.vocab:\n",
    "    if item.has_vector and item.prob > -15 and item.is_lower:\n",
    "        lookup.add_one(item.text, item.vector)\n",
    "lookup.build()"
   ]
  },
  {
   "cell_type": "code",
   "execution_count": 107,
   "metadata": {},
   "outputs": [],
   "source": [
    "def vec(s):\n",
    "    return nlp.vocab[s].vector"
   ]
  },
  {
   "cell_type": "code",
   "execution_count": 76,
   "metadata": {},
   "outputs": [
    {
     "data": {
      "text/plain": [
       "['grieving',\n",
       " 'grieve',\n",
       " 'mourning',\n",
       " 'grief',\n",
       " 'sorrows',\n",
       " 'heartache',\n",
       " 'sadness',\n",
       " 'sorrow',\n",
       " 'melancholy',\n",
       " 'heartbreak',\n",
       " 'agony',\n",
       " 'anguish']"
      ]
     },
     "execution_count": 76,
     "metadata": {},
     "output_type": "execute_result"
    }
   ],
   "source": [
    "lookup.nearest(meanv([vec(\"ecstacy\"), vec(\"grief\")]))\n"
   ]
  },
  {
   "cell_type": "code",
   "execution_count": 79,
   "metadata": {},
   "outputs": [
    {
     "data": {
      "text/plain": [
       "['nerfing',\n",
       " 'nerfed',\n",
       " 'gimped',\n",
       " 'blizz',\n",
       " 'nerf',\n",
       " 'mmos',\n",
       " 'microtransactions',\n",
       " 'grindy',\n",
       " 'prot',\n",
       " 'necro',\n",
       " 'pally',\n",
       " 'sorc']"
      ]
     },
     "execution_count": 79,
     "metadata": {},
     "output_type": "execute_result"
    }
   ],
   "source": [
    "lookup.nearest(vec(\"rage\") - vec(\"terror\"))"
   ]
  },
  {
   "cell_type": "code",
   "execution_count": 115,
   "metadata": {},
   "outputs": [],
   "source": [
    "emotion_doc = nlp(open(\"emotions.txt\").read())"
   ]
  },
  {
   "cell_type": "code",
   "execution_count": 151,
   "metadata": {},
   "outputs": [
    {
     "name": "stdout",
     "output_type": "stream",
     "text": [
      "- Trust comes from affirmation to reciprocated\n",
      "- fear comes from suspicions to terror\n",
      "- Surprise goes from diversion to disbelief\n",
      "- heartache turns from sadness to grieving\n",
      "- dismay goes from rut to schadenfreude\n",
      "- resentment turns from annoyance to rage\n",
      "- agitated comes from liquidity to vigilance\n",
      "- Joy comes from blissful to heady ",
      "\n",
      "\n"
     ]
    }
   ],
   "source": [
    "output = []\n",
    "for word in emotion_doc:\n",
    "    if word.is_alpha and word.pos_ in ('NOUN', 'VERB', 'ADJ'):\n",
    "        new_word = random.choice(lookup.nearest(word.vector, 3))\n",
    "        output.append(new_word)\n",
    "    else:\n",
    "        output.append(word.text)\n",
    "    output.append(word.whitespace_)\n",
    "print(''.join(output))"
   ]
  },
  {
   "cell_type": "code",
   "execution_count": 133,
   "metadata": {},
   "outputs": [
    {
     "data": {
      "text/plain": [
       "['reciprocated',\n",
       " 'companionship',\n",
       " 'admiration',\n",
       " 'affectionate',\n",
       " 'fondness',\n",
       " 'affection',\n",
       " 'kindness',\n",
       " 'friendliness',\n",
       " 'benevolence',\n",
       " 'sympathy',\n",
       " 'sympathies',\n",
       " 'unconditional']"
      ]
     },
     "execution_count": 133,
     "metadata": {},
     "output_type": "execute_result"
    }
   ],
   "source": [
    "lookup.nearest(meanv([vec(\"admiration\"), vec(\"reciprocated\")]))\n"
   ]
  },
  {
   "cell_type": "code",
   "execution_count": 131,
   "metadata": {},
   "outputs": [],
   "source": [
    "trust_name = color_lookup.nearest(colors['light green'])"
   ]
  },
  {
   "cell_type": "code",
   "execution_count": 132,
   "metadata": {},
   "outputs": [
    {
     "name": "stdout",
     "output_type": "stream",
     "text": [
      "reciprocated is light green\n",
      "companionship is easter green\n",
      "admiration is spring green\n",
      "affectionate is light grass green\n",
      "fondness is key lime\n",
      "affection is light lime\n",
      "kindness is lightgreen\n",
      "friendliness is pale lime green\n",
      "benevolence is baby green\n",
      "sympathy is mint green\n",
      "sympathies is pale light green\n",
      "unconditional is pale lime\n"
     ]
    }
   ],
   "source": [
    "index = 0\n",
    "\n",
    "for ename in lookup.nearest(vec(\"admiration\") + vec(\"reciprocated\")):\n",
    "    print(ename + \" is \" + trust_name[index])\n",
    "    index += 1"
   ]
  },
  {
   "cell_type": "code",
   "execution_count": 152,
   "metadata": {},
   "outputs": [
    {
     "data": {
      "text/plain": [
       "['amazement',\n",
       " 'awe',\n",
       " 'disbelief',\n",
       " 'incredulity',\n",
       " 'dismay',\n",
       " 'disgust',\n",
       " 'displeasure',\n",
       " 'pity',\n",
       " 'fright',\n",
       " 'dread',\n",
       " 'spectre',\n",
       " 'dreads']"
      ]
     },
     "execution_count": 152,
     "metadata": {},
     "output_type": "execute_result"
    }
   ],
   "source": [
    "lookup.nearest(meanv([vec(\"amazement\"), vec(\"awe\")]))\n"
   ]
  },
  {
   "cell_type": "code",
   "execution_count": 153,
   "metadata": {},
   "outputs": [],
   "source": [
    "surprise_name = color_lookup.nearest(colors['dark green'])"
   ]
  },
  {
   "cell_type": "code",
   "execution_count": 154,
   "metadata": {},
   "outputs": [
    {
     "name": "stdout",
     "output_type": "stream",
     "text": [
      "amazement is dark green\n",
      "awe is very dark green\n",
      "disbelief is dark forest green\n",
      "incredulity is hunter green\n",
      "dismay is racing green\n",
      "disgust is darkgreen\n",
      "displeasure is bottle green\n",
      "pity is forest green\n",
      "fright is british racing green\n",
      "dread is forrest green\n",
      "spectre is forest\n",
      "dreads is pine green\n"
     ]
    }
   ],
   "source": [
    "index = 0\n",
    "\n",
    "for ename in lookup.nearest(vec(\"amazement\") + vec(\"awe\")):\n",
    "    print(ename + \" is \" + surprise_name[index])\n",
    "    index += 1"
   ]
  },
  {
   "cell_type": "code",
   "execution_count": 155,
   "metadata": {},
   "outputs": [
    {
     "data": {
      "text/plain": [
       "['grieving',\n",
       " 'grieve',\n",
       " 'mourning',\n",
       " 'grief',\n",
       " 'sorrows',\n",
       " 'heartache',\n",
       " 'sadness',\n",
       " 'sorrow',\n",
       " 'melancholy',\n",
       " 'heartbreak',\n",
       " 'lament',\n",
       " 'gloom']"
      ]
     },
     "execution_count": 155,
     "metadata": {},
     "output_type": "execute_result"
    }
   ],
   "source": [
    "lookup.nearest(meanv([vec(\"grief\"), vec(\"mourning\")]))\n"
   ]
  },
  {
   "cell_type": "code",
   "execution_count": 156,
   "metadata": {},
   "outputs": [],
   "source": [
    "sadness_name = color_lookup.nearest(colors['blue'])"
   ]
  },
  {
   "cell_type": "code",
   "execution_count": 157,
   "metadata": {},
   "outputs": [
    {
     "name": "stdout",
     "output_type": "stream",
     "text": [
      "grieving is blue\n",
      "grieve is vibrant blue\n",
      "mourning is electric blue\n",
      "grief is azul\n",
      "sorrows is blue blue\n",
      "heartache is vivid blue\n",
      "sadness is bright blue\n",
      "sorrow is cerulean blue\n",
      "melancholy is rich blue\n",
      "heartbreak is true blue\n",
      "lament is deep sky blue\n",
      "gloom is sapphire\n"
     ]
    }
   ],
   "source": [
    "index = 0\n",
    "\n",
    "for ename in lookup.nearest(vec(\"grief\") + vec(\"mourning\")):\n",
    "    print(ename + \" is \" + sadness_name[index])\n",
    "    index += 1"
   ]
  },
  {
   "cell_type": "code",
   "execution_count": 158,
   "metadata": {},
   "outputs": [
    {
     "data": {
      "text/plain": [
       "['dismay',\n",
       " 'disgust',\n",
       " 'displeasure',\n",
       " 'schadenfreude',\n",
       " 'loathing',\n",
       " 'disapproval',\n",
       " 'scorn',\n",
       " 'disdain',\n",
       " 'distaste',\n",
       " 'hatred',\n",
       " 'fester',\n",
       " 'resentment']"
      ]
     },
     "execution_count": 158,
     "metadata": {},
     "output_type": "execute_result"
    }
   ],
   "source": [
    "lookup.nearest(meanv([vec(\"loathing\"), vec(\"dismay\")]))\n"
   ]
  },
  {
   "cell_type": "code",
   "execution_count": 159,
   "metadata": {},
   "outputs": [],
   "source": [
    "disgust_name = color_lookup.nearest(colors['purple'])"
   ]
  },
  {
   "cell_type": "code",
   "execution_count": 160,
   "metadata": {},
   "outputs": [
    {
     "name": "stdout",
     "output_type": "stream",
     "text": [
      "dismay is purple\n",
      "disgust is warm purple\n",
      "displeasure is darkish purple\n",
      "schadenfreude is barney purple\n",
      "loathing is light eggplant\n",
      "disapproval is purply\n",
      "scorn is medium purple\n",
      "disdain is ugly purple\n",
      "distaste is barney\n",
      "hatred is bruise\n",
      "fester is purple/blue\n",
      "resentment is bluey purple\n"
     ]
    }
   ],
   "source": [
    "index = 0\n",
    "\n",
    "for ename in lookup.nearest(vec(\"loathing\") + vec(\"dismay\")):\n",
    "    print(ename + \" is \" + disgust_name[index])\n",
    "    index += 1"
   ]
  },
  {
   "cell_type": "code",
   "execution_count": 161,
   "metadata": {},
   "outputs": [
    {
     "data": {
      "text/plain": [
       "['ferocity',\n",
       " 'seething',\n",
       " 'fury',\n",
       " 'unleashed',\n",
       " 'pent',\n",
       " 'rage',\n",
       " 'anger',\n",
       " 'hatred',\n",
       " 'outcry',\n",
       " 'indignation',\n",
       " 'outrage',\n",
       " 'uproar']"
      ]
     },
     "execution_count": 161,
     "metadata": {},
     "output_type": "execute_result"
    }
   ],
   "source": [
    "lookup.nearest(meanv([vec(\"rage\"), vec(\"ferocity\")]))\n"
   ]
  },
  {
   "cell_type": "code",
   "execution_count": 162,
   "metadata": {},
   "outputs": [],
   "source": [
    "anger_name = color_lookup.nearest(colors['red'])"
   ]
  },
  {
   "cell_type": "code",
   "execution_count": 164,
   "metadata": {},
   "outputs": [
    {
     "name": "stdout",
     "output_type": "stream",
     "text": [
      "ferocity is red\n",
      "seething is fire engine red\n",
      "fury is bright red\n",
      "unleashed is tomato red\n",
      "pent is cherry red\n",
      "rage is scarlet\n",
      "anger is vermillion\n",
      "hatred is orangish red\n",
      "outcry is cherry\n",
      "indignation is lipstick red\n",
      "outrage is darkish red\n",
      "uproar is neon red\n"
     ]
    }
   ],
   "source": [
    "index = 0\n",
    "\n",
    "for ename in lookup.nearest(vec(\"rage\") + vec(\"ferocity\")):\n",
    "    print(ename + \" is \" + anger_name[index])\n",
    "    index += 1"
   ]
  },
  {
   "cell_type": "code",
   "execution_count": 165,
   "metadata": {},
   "outputs": [
    {
     "data": {
      "text/plain": [
       "['scrutinized',\n",
       " 'vigilance',\n",
       " 'scrutiny',\n",
       " 'vetting',\n",
       " 'procedural',\n",
       " 'justices',\n",
       " 'jurisprudence',\n",
       " 'judiciary',\n",
       " 'judicial',\n",
       " 'inquiries',\n",
       " 'inquiry',\n",
       " 'concerns']"
      ]
     },
     "execution_count": 165,
     "metadata": {},
     "output_type": "execute_result"
    }
   ],
   "source": [
    "lookup.nearest(meanv([vec(\"vigilance\"), vec(\"scrutiny\")]))\n"
   ]
  },
  {
   "cell_type": "code",
   "execution_count": 168,
   "metadata": {},
   "outputs": [],
   "source": [
    "anticipation_name = color_lookup.nearest(colors['orange'])"
   ]
  },
  {
   "cell_type": "code",
   "execution_count": 169,
   "metadata": {},
   "outputs": [
    {
     "name": "stdout",
     "output_type": "stream",
     "text": [
      "scrutinized is orange\n",
      "vigilance is pumpkin orange\n",
      "scrutiny is pumpkin\n",
      "vetting is bright orange\n",
      "procedural is tangerine\n",
      "justices is blood orange\n",
      "jurisprudence is browny orange\n",
      "judiciary is deep orange\n",
      "judicial is reddish orange\n",
      "inquiries is dirty orange\n",
      "inquiry is orangered\n",
      "concerns is rusty orange\n"
     ]
    }
   ],
   "source": [
    "index = 0\n",
    "\n",
    "for ename in lookup.nearest(vec(\"vigilance\") + vec(\"scrutiny\")):\n",
    "    print(ename + \" is \" + anticipation_name[index])\n",
    "    index += 1"
   ]
  },
  {
   "cell_type": "code",
   "execution_count": 170,
   "metadata": {},
   "outputs": [
    {
     "data": {
      "text/plain": [
       "['euphoria',\n",
       " 'heady',\n",
       " 'ecstasy',\n",
       " 'cathartic',\n",
       " 'euphoric',\n",
       " 'intoxicating',\n",
       " 'comedown',\n",
       " 'hyperactive',\n",
       " 'spastic',\n",
       " 'mania',\n",
       " 'manic',\n",
       " 'addictive']"
      ]
     },
     "execution_count": 170,
     "metadata": {},
     "output_type": "execute_result"
    }
   ],
   "source": [
    "lookup.nearest(meanv([vec(\"ecstasy\"), vec(\"euphoria\")]))"
   ]
  },
  {
   "cell_type": "code",
   "execution_count": 171,
   "metadata": {},
   "outputs": [],
   "source": [
    "joy_name = color_lookup.nearest(colors['yellow'])"
   ]
  },
  {
   "cell_type": "code",
   "execution_count": 172,
   "metadata": {},
   "outputs": [
    {
     "name": "stdout",
     "output_type": "stream",
     "text": [
      "euphoria is yellow\n",
      "heady is sunny yellow\n",
      "ecstasy is bright yellow\n",
      "cathartic is dandelion\n",
      "euphoric is sun yellow\n",
      "intoxicating is sunshine yellow\n",
      "comedown is lemon yellow\n",
      "hyperactive is sunflower yellow\n",
      "spastic is canary yellow\n",
      "mania is off yellow\n",
      "manic is lime yellow\n",
      "addictive is neon yellow\n"
     ]
    }
   ],
   "source": [
    "index = 0\n",
    "\n",
    "for ename in lookup.nearest(vec(\"ecstasy\") + vec(\"euphoria\")):\n",
    "    print(ename + \" is \" + joy_name[index])\n",
    "    index += 1"
   ]
  },
  {
   "cell_type": "code",
   "execution_count": 173,
   "metadata": {},
   "outputs": [
    {
     "data": {
      "text/plain": [
       "['fear',\n",
       " 'fright',\n",
       " 'dread',\n",
       " 'spectre',\n",
       " 'dreads',\n",
       " 'horrors',\n",
       " 'unspeakable',\n",
       " 'scary',\n",
       " 'frightening',\n",
       " 'terrible',\n",
       " 'nightmares',\n",
       " 'terrors']"
      ]
     },
     "execution_count": 173,
     "metadata": {},
     "output_type": "execute_result"
    }
   ],
   "source": [
    "lookup.nearest(meanv([vec(\"fear\"), vec(\"horror\")]))"
   ]
  },
  {
   "cell_type": "code",
   "execution_count": 174,
   "metadata": {},
   "outputs": [],
   "source": [
    "fear_name = color_lookup.nearest(colors['green'])"
   ]
  },
  {
   "cell_type": "code",
   "execution_count": 175,
   "metadata": {},
   "outputs": [
    {
     "name": "stdout",
     "output_type": "stream",
     "text": [
      "fear is green\n",
      "fright is kelly green\n",
      "dread is irish green\n",
      "spectre is true green\n",
      "dreads is emerald green\n",
      "horrors is kelley green\n",
      "unspeakable is grass green\n",
      "scary is vibrant green\n",
      "frightening is grassy green\n",
      "terrible is emerald\n",
      "nightmares is shamrock\n",
      "terrors is tree green\n"
     ]
    }
   ],
   "source": [
    "index = 0\n",
    "\n",
    "for ename in lookup.nearest(vec(\"fear\") + vec(\"horror\")):\n",
    "    print(ename + \" is \" + fear_name[index])\n",
    "    index += 1"
   ]
  },
  {
   "cell_type": "code",
   "execution_count": null,
   "metadata": {},
   "outputs": [],
   "source": []
  },
  {
   "cell_type": "code",
   "execution_count": null,
   "metadata": {},
   "outputs": [],
   "source": []
  },
  {
   "cell_type": "code",
   "execution_count": 84,
   "metadata": {},
   "outputs": [
    {
     "name": "stdout",
     "output_type": "stream",
     "text": [
      "reciprocated is yellow\n",
      "reciprocated is sunny yellow\n",
      "reciprocated is bright yellow\n",
      "reciprocated is dandelion\n",
      "reciprocated is sun yellow\n",
      "reciprocated is sunshine yellow\n",
      "reciprocated is lemon yellow\n",
      "reciprocated is sunflower yellow\n",
      "reciprocated is canary yellow\n",
      "reciprocated is off yellow\n",
      "reciprocated is lime yellow\n",
      "reciprocated is neon yellow\n",
      "companionship is yellow\n",
      "companionship is sunny yellow\n",
      "companionship is bright yellow\n",
      "companionship is dandelion\n",
      "companionship is sun yellow\n",
      "companionship is sunshine yellow\n",
      "companionship is lemon yellow\n",
      "companionship is sunflower yellow\n",
      "companionship is canary yellow\n",
      "companionship is off yellow\n",
      "companionship is lime yellow\n",
      "companionship is neon yellow\n",
      "admiration is yellow\n",
      "admiration is sunny yellow\n",
      "admiration is bright yellow\n",
      "admiration is dandelion\n",
      "admiration is sun yellow\n",
      "admiration is sunshine yellow\n",
      "admiration is lemon yellow\n",
      "admiration is sunflower yellow\n",
      "admiration is canary yellow\n",
      "admiration is off yellow\n",
      "admiration is lime yellow\n",
      "admiration is neon yellow\n",
      "affectionate is yellow\n",
      "affectionate is sunny yellow\n",
      "affectionate is bright yellow\n",
      "affectionate is dandelion\n",
      "affectionate is sun yellow\n",
      "affectionate is sunshine yellow\n",
      "affectionate is lemon yellow\n",
      "affectionate is sunflower yellow\n",
      "affectionate is canary yellow\n",
      "affectionate is off yellow\n",
      "affectionate is lime yellow\n",
      "affectionate is neon yellow\n",
      "fondness is yellow\n",
      "fondness is sunny yellow\n",
      "fondness is bright yellow\n",
      "fondness is dandelion\n",
      "fondness is sun yellow\n",
      "fondness is sunshine yellow\n",
      "fondness is lemon yellow\n",
      "fondness is sunflower yellow\n",
      "fondness is canary yellow\n",
      "fondness is off yellow\n",
      "fondness is lime yellow\n",
      "fondness is neon yellow\n",
      "affection is yellow\n",
      "affection is sunny yellow\n",
      "affection is bright yellow\n",
      "affection is dandelion\n",
      "affection is sun yellow\n",
      "affection is sunshine yellow\n",
      "affection is lemon yellow\n",
      "affection is sunflower yellow\n",
      "affection is canary yellow\n",
      "affection is off yellow\n",
      "affection is lime yellow\n",
      "affection is neon yellow\n",
      "fear is yellow\n",
      "fear is sunny yellow\n",
      "fear is bright yellow\n",
      "fear is dandelion\n",
      "fear is sun yellow\n",
      "fear is sunshine yellow\n",
      "fear is lemon yellow\n",
      "fear is sunflower yellow\n",
      "fear is canary yellow\n",
      "fear is off yellow\n",
      "fear is lime yellow\n",
      "fear is neon yellow\n",
      "hatred is yellow\n",
      "hatred is sunny yellow\n",
      "hatred is bright yellow\n",
      "hatred is dandelion\n",
      "hatred is sun yellow\n",
      "hatred is sunshine yellow\n",
      "hatred is lemon yellow\n",
      "hatred is sunflower yellow\n",
      "hatred is canary yellow\n",
      "hatred is off yellow\n",
      "hatred is lime yellow\n",
      "hatred is neon yellow\n",
      "sympathy is yellow\n",
      "sympathy is sunny yellow\n",
      "sympathy is bright yellow\n",
      "sympathy is dandelion\n",
      "sympathy is sun yellow\n",
      "sympathy is sunshine yellow\n",
      "sympathy is lemon yellow\n",
      "sympathy is sunflower yellow\n",
      "sympathy is canary yellow\n",
      "sympathy is off yellow\n",
      "sympathy is lime yellow\n",
      "sympathy is neon yellow\n",
      "sympathies is yellow\n",
      "sympathies is sunny yellow\n",
      "sympathies is bright yellow\n",
      "sympathies is dandelion\n",
      "sympathies is sun yellow\n",
      "sympathies is sunshine yellow\n",
      "sympathies is lemon yellow\n",
      "sympathies is sunflower yellow\n",
      "sympathies is canary yellow\n",
      "sympathies is off yellow\n",
      "sympathies is lime yellow\n",
      "sympathies is neon yellow\n",
      "anger is yellow\n",
      "anger is sunny yellow\n",
      "anger is bright yellow\n",
      "anger is dandelion\n",
      "anger is sun yellow\n",
      "anger is sunshine yellow\n",
      "anger is lemon yellow\n",
      "anger is sunflower yellow\n",
      "anger is canary yellow\n",
      "anger is off yellow\n",
      "anger is lime yellow\n",
      "anger is neon yellow\n",
      "feelings is yellow\n",
      "feelings is sunny yellow\n",
      "feelings is bright yellow\n",
      "feelings is dandelion\n",
      "feelings is sun yellow\n",
      "feelings is sunshine yellow\n",
      "feelings is lemon yellow\n",
      "feelings is sunflower yellow\n",
      "feelings is canary yellow\n",
      "feelings is off yellow\n",
      "feelings is lime yellow\n",
      "feelings is neon yellow\n"
     ]
    }
   ],
   "source": [
    "for ename in lookup.nearest(vec(\"admiration\") + vec(\"terror\")):\n",
    "    for cname in color_lookup.nearest(colors['yellow']):\n",
    "        print(ename + \" is \" + cname)"
   ]
  },
  {
   "cell_type": "code",
   "execution_count": 93,
   "metadata": {},
   "outputs": [],
   "source": [
    "cname = color_lookup.nearest(colors['yellow'])"
   ]
  },
  {
   "cell_type": "code",
   "execution_count": 99,
   "metadata": {},
   "outputs": [
    {
     "name": "stdout",
     "output_type": "stream",
     "text": [
      "reciprocated is yellow\n",
      "companionship is sunny yellow\n",
      "admiration is bright yellow\n",
      "affectionate is dandelion\n",
      "fondness is sun yellow\n",
      "affection is sunshine yellow\n",
      "fear is lemon yellow\n",
      "hatred is sunflower yellow\n",
      "sympathy is canary yellow\n",
      "sympathies is off yellow\n",
      "anger is lime yellow\n",
      "feelings is neon yellow\n"
     ]
    }
   ],
   "source": [
    "# lookup.nearest(meanv([vec(\"admiration\"), vec(\"devotion\")]))\n",
    "\n",
    "index = 0\n",
    "\n",
    "for ename in lookup.nearest(vec(\"admiration\") + vec(\"terror\")):\n",
    "    print(ename + \" is \" + cname[index])\n",
    "    index += 1"
   ]
  },
  {
   "cell_type": "code",
   "execution_count": null,
   "metadata": {},
   "outputs": [],
   "source": []
  },
  {
   "cell_type": "code",
   "execution_count": null,
   "metadata": {},
   "outputs": [],
   "source": []
  },
  {
   "cell_type": "code",
   "execution_count": null,
   "metadata": {},
   "outputs": [],
   "source": []
  },
  {
   "cell_type": "code",
   "execution_count": null,
   "metadata": {},
   "outputs": [],
   "source": []
  }
 ],
 "metadata": {
  "kernelspec": {
   "display_name": "Python 3",
   "language": "python",
   "name": "python3"
  },
  "language_info": {
   "codemirror_mode": {
    "name": "ipython",
    "version": 3
   },
   "file_extension": ".py",
   "mimetype": "text/x-python",
   "name": "python",
   "nbconvert_exporter": "python",
   "pygments_lexer": "ipython3",
   "version": "3.6.5"
  }
 },
 "nbformat": 4,
 "nbformat_minor": 2
}
